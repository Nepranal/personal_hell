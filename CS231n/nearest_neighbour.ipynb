{
 "cells": [
  {
   "cell_type": "markdown",
   "metadata": {},
   "source": [
    "# Nearest Neighbour\n",
    "\n",
    "Source\n",
    "- [Image Classification: Data-driven Approach, k-Nearest Neighbor, train/val/test splits](https://cs231n.github.io/classification/)\n",
    "- [The CIFAR-10 dataset](https://www.cs.toronto.edu/~kriz/cifar.html)\n",
    "\n",
    "---"
   ]
  },
  {
   "cell_type": "code",
   "execution_count": 1,
   "metadata": {},
   "outputs": [],
   "source": [
    "import pickle\n",
    "from matplotlib import pyplot as plt\n",
    "import numpy as np\n",
    "import threading\n",
    "from scipy import stats\n",
    "import copy"
   ]
  },
  {
   "cell_type": "code",
   "execution_count": 3,
   "metadata": {},
   "outputs": [],
   "source": [
    "#Util functions\n",
    "# https://www.cs.toronto.edu/~kriz/cifar.html\n",
    "def unpickle(file):\n",
    "    with open(file, 'rb') as fo:\n",
    "        dict = pickle.load(fo, encoding='bytes')\n",
    "    return dict"
   ]
  },
  {
   "cell_type": "markdown",
   "metadata": {},
   "source": [
    "## Data Exploration\n",
    "\n",
    "---"
   ]
  },
  {
   "cell_type": "code",
   "execution_count": 5,
   "metadata": {},
   "outputs": [
    {
     "data": {
      "text/plain": [
       "dict_keys([b'num_cases_per_batch', b'label_names', b'num_vis'])"
      ]
     },
     "execution_count": 5,
     "metadata": {},
     "output_type": "execute_result"
    }
   ],
   "source": [
    "#Global variables\n",
    "d = unpickle(\"data/cifar-10-batches-py/data_batch_1\")\n",
    "names = unpickle(\"data/cifar-10-batches-py/batches.meta\")\n",
    "\n",
    "names.keys()"
   ]
  },
  {
   "cell_type": "code",
   "execution_count": 6,
   "metadata": {},
   "outputs": [
    {
     "data": {
      "text/plain": [
       "[b'airplane',\n",
       " b'automobile',\n",
       " b'bird',\n",
       " b'cat',\n",
       " b'deer',\n",
       " b'dog',\n",
       " b'frog',\n",
       " b'horse',\n",
       " b'ship',\n",
       " b'truck']"
      ]
     },
     "execution_count": 6,
     "metadata": {},
     "output_type": "execute_result"
    }
   ],
   "source": [
    "data = d[b'data']\n",
    "labels = d[b'labels']\n",
    "label_names = names[b'label_names']\n",
    "\n",
    "label_names"
   ]
  },
  {
   "cell_type": "code",
   "execution_count": 8,
   "metadata": {},
   "outputs": [
    {
     "data": {
      "image/png": "[encoded data removed]",
      "text/plain": [
       "<Figure size 640x480 with 1 Axes>"
      ]
     },
     "metadata": {},
     "output_type": "display_data"
    },
    {
     "name": "stdout",
     "output_type": "stream",
     "text": [
      "frog\n"
     ]
    }
   ],
   "source": [
    "#Visualizing\n",
    "def getImage(index, data, labels):\n",
    "    img = data[index]\n",
    "    temp = []\n",
    "\n",
    "    for i in range(32):\n",
    "        t = []\n",
    "        for j in range(32):\n",
    "            t.append([img[j+(32*i)], img[(j+1024)+(32*i)], img[(j+1024*2)+(32*i)]]) # R,G,B\n",
    "        temp.append(t)\n",
    "    \n",
    "    return temp, labels[index]\n",
    "\n",
    "image, label = getImage(0, data, labels)\n",
    "plt.imshow(image)\n",
    "plt.show()\n",
    "print(label_names[label].decode(\"utf-8\"))"
   ]
  },
  {
   "cell_type": "markdown",
   "metadata": {},
   "source": [
    "## Nearest Neighbour Implementation\n",
    "\n",
    "---"
   ]
  },
  {
   "cell_type": "code",
   "execution_count": 9,
   "metadata": {},
   "outputs": [],
   "source": [
    "# Nearest Neighbour\n",
    "class NearestNeighbour():\n",
    "    data=[]\n",
    "    labels=[]\n",
    "\n",
    "    def train(self, data, labels):\n",
    "        self.data = data\n",
    "        self.labels = labels\n",
    "\n",
    "    def getLabel(self, i):\n",
    "        return np.take(self.labels, i)\n",
    "    \n",
    "    def getData(self, i):\n",
    "        return self.data[i]\n",
    "\n",
    "    # With L1 Score\n",
    "    def predict(self, img):\n",
    "        min_diff = np.sum(np.abs(np.subtract(self.data,img)), axis=1)\n",
    "        return min_diff.min() , min_diff.argmin()"
   ]
  },
  {
   "cell_type": "code",
   "execution_count": 13,
   "metadata": {},
   "outputs": [
    {
     "name": "stdout",
     "output_type": "stream",
     "text": [
      "[[-1  2]\n",
      " [ 0  0]\n",
      " [ 1  3]]\n",
      "---\n",
      "[[1 4]\n",
      " [0 0]\n",
      " [1 9]]\n",
      "---\n",
      "[ 5  0 10]\n"
     ]
    }
   ],
   "source": [
    "#Visualising the numpy functions\n",
    "s1 = [[1,3],[2,1],[3,4]] #3x2. wants it to be 3 x 1 x 2\n",
    "s2 = [2,1] # 1x2\n",
    "\n",
    "# s1 = np.reshape(s1,(3,1,2))\n",
    "\n",
    "print(np.subtract(s1,s2))\n",
    "print(\"---\")\n",
    "print(np.square(np.subtract(s1,s2)))\n",
    "print(\"---\")\n",
    "print(np.sum(np.square(np.subtract(s1,s2)), axis=1))"
   ]
  },
  {
   "cell_type": "code",
   "execution_count": 15,
   "metadata": {},
   "outputs": [],
   "source": [
    "#Prepare dataset\n",
    "batches = []\n",
    "labels = []\n",
    "for i in range(5):\n",
    "    batch = unpickle(\"data/cifar-10-batches-py/data_batch_\"+str(i+1))\n",
    "    batches.extend(batch[b'data'])\n",
    "    labels.extend(batch[b'labels'])\n",
    "batches = np.array(batches)\n",
    "labels = np.array(labels)\n",
    "batches, labels\n",
    "\n",
    "test_data, test_labels = [], []\n",
    "batch = unpickle(\"data/cifar-10-batches-py/test_batch\")\n",
    "test_data.extend(batch[b'data'])\n",
    "test_labels.extend(batch[b'labels'])\n",
    "\n",
    "test_data = np.array(test_data)\n",
    "test_labels = np.array(test_labels)"
   ]
  },
  {
   "cell_type": "code",
   "execution_count": 23,
   "metadata": {},
   "outputs": [
    {
     "name": "stdout",
     "output_type": "stream",
     "text": [
      "Actual: 0 airplane \n",
      "Pred: 3 cat\n"
     ]
    },
    {
     "data": {
      "text/plain": [
       "<matplotlib.image.AxesImage at 0x13d6a9070>"
      ]
     },
     "execution_count": 23,
     "metadata": {},
     "output_type": "execute_result"
    },
    {
     "data": {
      "image/png": "[encoded data removed]",
      "text/plain": [
       "<Figure size 640x480 with 1 Axes>"
      ]
     },
     "metadata": {},
     "output_type": "display_data"
    }
   ],
   "source": [
    "#Testing \n",
    "nearestNeighbour = NearestNeighbour()\n",
    "nearestNeighbour.train(batches, labels)\n",
    "\n",
    "index = 10\n",
    "test = test_data[index]\n",
    "label = test_labels[index]\n",
    "\n",
    "min, i = nearestNeighbour.predict(test)\n",
    "\n",
    "img, label = getImage(index, test_data, test_labels)\n",
    "\n",
    "print(\"Actual: \"+str(label), label_names[label].decode(\"utf-8\"), \"\\nPred: \"+ str(nearestNeighbour.getLabel(i)), label_names[nearestNeighbour.getLabel(i)].decode(\"utf-8\"))\n",
    "plt.imshow(img)"
   ]
  },
  {
   "cell_type": "code",
   "execution_count": 23,
   "metadata": {},
   "outputs": [],
   "source": [
    "#Multi-threading approach because my computer's too slow\n",
    "lock = threading.Lock()\n",
    "counter = 0\n",
    "\n",
    "batches = []\n",
    "labels = []\n",
    "for i in range(5):\n",
    "    batch = unpickle(\"data/cifar-10-batches-py/data_batch_\"+str(i+1))\n",
    "    batches.extend(batch[b'data'])\n",
    "    labels.extend(batch[b'labels'])\n",
    "batches = np.array(batches)\n",
    "labels = np.array(labels)\n",
    "batches, labels\n",
    "\n",
    "nearestNeighbour = NearestNeighbour()\n",
    "nearestNeighbour.train(batches, labels)\n",
    "\n",
    "test_data, test_labels = [], []\n",
    "batch = unpickle(\"data/cifar-10-batches-py/test_batch\")\n",
    "test_data.extend(batch[b'data'])\n",
    "test_labels.extend(batch[b'labels'])\n",
    "test_data = np.array(test_data)\n",
    "test_labels = np.array(test_labels)\n",
    "\n",
    "indexes = [x for x in range(len(test_labels))]\n",
    "\n",
    "runners = 10\n",
    "corrects=[0 for _ in range(runners)]\n",
    "\n",
    "#Test accuracy\n",
    "def task(runner):\n",
    "    global counter, indexes, lock, test_data, test_labels, nearestNeighbour, corrects\n",
    "\n",
    "    count = 0\n",
    "\n",
    "    while True:\n",
    "        with lock:\n",
    "            if(len(indexes) == 0):\n",
    "                corrects[runner-1] = count\n",
    "                return\n",
    "            i = indexes.pop()\n",
    "            counter+=1\n",
    "            print(\"#\", counter)\n",
    "        \n",
    "        test = test_data[i]\n",
    "        label = test_labels[i]\n",
    "\n",
    "        _, index = nearestNeighbour.predict(test)\n",
    "        count += np.sum(np.equal(nearestNeighbour.getLabel(index),label))\n",
    "\n",
    "        print(\"runner:\",runner,\"Correct so far:\", count)\n",
    "\n",
    "#Start           \n",
    "threads = []\n",
    "for i in range(runners):\n",
    "    threads.append(threading.Thread(target=task, args=(i+1,)))\n",
    "\n",
    "for i in range(runners):\n",
    "    threads[i].start()\n",
    "\n",
    "for i in range(runners):\n",
    "    threads[i].join()\n",
    "\n",
    "corrects, sum(corrects)"
   ]
  },
  {
   "cell_type": "markdown",
   "metadata": {},
   "source": [
    "## K Nearest Neighbour\n",
    "\n",
    "---"
   ]
  },
  {
   "cell_type": "code",
   "execution_count": 3,
   "metadata": {},
   "outputs": [],
   "source": [
    "# K Nearest Neighbour\n",
    "class KNearestNeighbour():\n",
    "    data=[]\n",
    "    labels=[]\n",
    "    k=1\n",
    "\n",
    "    def __init__(self, k =1):\n",
    "        self.k = k\n",
    "\n",
    "    def train(self, data, labels):\n",
    "        self.data = data\n",
    "        self.labels = labels\n",
    "\n",
    "    def getLabel(self, i):\n",
    "        return np.take(self.labels, i)\n",
    "    \n",
    "    def getData(self, i):\n",
    "        return self.data[i]\n",
    "\n",
    "    # With L1 Score\n",
    "    def predict(self, img):\n",
    "        min_diff = np.sum(np.abs(np.subtract(self.data,img)), axis=1)\n",
    "        args = np.argsort(min_diff)[:self.k]\n",
    "\n",
    "        diff = np.take(min_diff, args)\n",
    "        \n",
    "        y = stats.mode(np.take(self.labels, args)).mode\n",
    "\n",
    "        return diff , y"
   ]
  },
  {
   "cell_type": "code",
   "execution_count": 9,
   "metadata": {},
   "outputs": [],
   "source": [
    "#Cross Validation, multi-threaded\n",
    "lock = threading.Lock()\n",
    "\n",
    "#Test accuracy\n",
    "def task(runner):\n",
    "    global counter, indexes, lock, x_test, y_test, nearestNeighbour, corrects\n",
    "\n",
    "    count = 0\n",
    "\n",
    "    while True:\n",
    "        with lock:\n",
    "            if(len(indexes) == 0):\n",
    "                corrects[runner-1] = count\n",
    "                return\n",
    "            i = indexes.pop()\n",
    "            counter+=1\n",
    "            print(\"#\", counter)\n",
    "        \n",
    "        test = x_test[i]\n",
    "        label = y_test[i]\n",
    "\n",
    "        _, y = nearestNeighbour.predict(test)\n",
    "        count += np.sum(np.equal(y,label))\n",
    "\n",
    "        print(\"runner:\",runner,\"Correct so far:\", count)\n",
    "\n",
    "batches = []\n",
    "labels = []\n",
    "for i in range(5):\n",
    "    batch = unpickle(\"data/cifar-10-batches-py/data_batch_\"+str(i+1))\n",
    "    batches.append(batch[b'data'])\n",
    "    labels.append(batch[b'labels'])\n",
    "batches = np.array(batches)\n",
    "labels = np.array(labels)\n",
    "\n",
    "accuracies = []\n",
    "runners = 10\n",
    "for i in range(len(batches)):\n",
    "    x_test, y_test = batches[i], labels[i]\n",
    "    indices = [x for x in range(len(batches)) if x!=i]\n",
    "    x_train, y_train = np.take(batches, indices, axis=0), np.take(labels, indices, axis=0).flatten()\n",
    "    x_train = x_train.reshape((x_train.shape[0]*x_train.shape[1],)+x_train.shape[2:])\n",
    "\n",
    "    counter = 0\n",
    "    indexes = [x for x in range(len(y_test))]\n",
    "    threads = []\n",
    "    corrects = [0 for _ in range(runners)]\n",
    "    for i in range(runners):\n",
    "        threads.append(threading.Thread(target=task, args=(i+1,)))\n",
    "\n",
    "    nearestNeighbour = KNearestNeighbour(1) # can vary this \n",
    "    nearestNeighbour.train(x_train, y_train)\n",
    "\n",
    "    for j in range(runners):\n",
    "        threads[j].start()\n",
    "\n",
    "    for j in range(runners):\n",
    "        threads[j].join()\n",
    "    \n",
    "    accuracies.append(copy.deepcopy(corrects))\n",
    "accuracies, np.sum(accuracies, axis=1)"
   ]
  }
 ],
 "metadata": {
  "kernelspec": {
   "display_name": "Python 3",
   "language": "python",
   "name": "python3"
  },
  "language_info": {
   "codemirror_mode": {
    "name": "ipython",
    "version": 3
   },
   "file_extension": ".py",
   "mimetype": "text/x-python",
   "name": "python",
   "nbconvert_exporter": "python",
   "pygments_lexer": "ipython3",
   "version": "3.12.3"
  }
 },
 "nbformat": 4,
 "nbformat_minor": 2
}
