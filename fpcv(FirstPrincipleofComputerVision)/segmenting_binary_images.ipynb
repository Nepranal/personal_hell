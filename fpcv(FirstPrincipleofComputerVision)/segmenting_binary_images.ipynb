{
 "cells": [
  {
   "cell_type": "markdown",
   "metadata": {},
   "source": [
    "# Segmenting Binary Images\n",
    "Source:\n",
    "- [Segmenting Binary Images | Binary Images](https://youtu.be/2ckNxEwF5YU)\n",
    "\n",
    "---"
   ]
  },
  {
   "cell_type": "code",
   "execution_count": 14,
   "metadata": {},
   "outputs": [],
   "source": [
    "from matplotlib import pyplot as plt\n",
    "from PIL import Image\n",
    "import cv2 as cv\n",
    "import numpy as np\n",
    "import imutils\n",
    "import copy"
   ]
  },
  {
   "cell_type": "code",
   "execution_count": 15,
   "metadata": {},
   "outputs": [],
   "source": [
    "#Utils\n",
    "def cvtBinary(path):\n",
    "    image = cv.imread(path, cv.IMREAD_GRAYSCALE)\n",
    "    resized = imutils.resize(image, width=SIZE)\n",
    "    resized = resized.tolist()\n",
    "\n",
    "    row, col = len(resized), len(resized[0])\n",
    "    for i in range(row):\n",
    "        for j in range(col):\n",
    "            if(resized[i][j]!=255):\n",
    "                resized[i][j] = 0\n",
    "            else:\n",
    "                resized[i][j] = 1\n",
    "    \n",
    "    return resized"
   ]
  },
  {
   "cell_type": "code",
   "execution_count": 16,
   "metadata": {},
   "outputs": [
    {
     "data": {
      "text/plain": [
       "<matplotlib.image.AxesImage at 0x1345aa030>"
      ]
     },
     "execution_count": 16,
     "metadata": {},
     "output_type": "execute_result"
    },
    {
     "data": {
      "image/png": "[encoded data removed]",
      "text/plain": [
       "<Figure size 640x480 with 1 Axes>"
      ]
     },
     "metadata": {},
     "output_type": "display_data"
    }
   ],
   "source": [
    "#Data prep\n",
    "data = [[0, 0, 0, 1, 1, 1, 1, 1, 1, 1],\n",
    "\t\t[0, 0, 0, 1, 1, 1, 1, 1, 1, 1],\n",
    "\t\t[0, 0, 0, 1, 1, 1, 1, 0, 0, 1],\n",
    "\t\t[1, 1, 1, 1, 1, 1, 0, 0, 0, 1],\n",
    "\t\t[1, 1, 1, 1, 1, 1, 0, 0, 1, 1],\n",
    "\t\t[1, 1, 1, 0, 1, 1, 1, 1, 1, 1],\n",
    "\t\t[1, 1, 0, 0, 0, 1, 1, 0, 0, 1],\n",
    "\t\t[1, 0, 0, 0, 0, 0, 1, 0, 0, 0],\n",
    "\t\t[1, 1, 1, 1, 1, 1, 1, 1, 0, 0],\n",
    "\t\t[1, 1, 1, 1, 1, 1, 1, 1, 1, 1]]\n",
    "\n",
    "row, col = len(data), len(data[0])\n",
    "for i in range(row):\n",
    "    for j in range(col):\n",
    "        data[i][j] = int(not data[i][j])\n",
    "\n",
    "\n",
    "image = Image.new('1', (10,10))\n",
    "pixels = image.load()\n",
    "\n",
    "for i in range(image.size[0]):\n",
    "    for j in range(image.size[1]):\n",
    "       pixels[j, i] = data[i][j]\n",
    "\n",
    "image.save(\"data/bin0.bmp\")\n",
    "plt.imshow(data, cmap=\"gray\")\n",
    "\n",
    "#Resizing\n",
    "SIZE = 256\n",
    "image = cv.imread('data/bin0.bmp', cv.IMREAD_GRAYSCALE)\n",
    "resized = imutils.resize(image, width=SIZE)\n",
    "resized = resized.tolist()\n",
    "\n",
    "row, col = len(resized), len(resized[0])\n",
    "for i in range(row):\n",
    "    for j in range(col):\n",
    "        if(resized[i][j]!=255):\n",
    "            resized[i][j] = 0\n",
    "        else:\n",
    "            resized[i][j] = 1\n",
    "\n",
    "image = Image.new('1', (SIZE,SIZE))\n",
    "pixels = image.load()\n",
    "\n",
    "for i in range(image.size[0]):\n",
    "    for j in range(image.size[1]):\n",
    "       pixels[j, i] = resized[i][j]\n",
    "\n",
    "image.save(\"data/bin0.bmp\")\n",
    "plt.imshow(resized, cmap=\"gray\")"
   ]
  },
  {
   "cell_type": "code",
   "execution_count": 26,
   "metadata": {},
   "outputs": [
    {
     "data": {
      "text/plain": [
       "(8, [{3, 4}, {5, 6}, {6, 8}])"
      ]
     },
     "execution_count": 26,
     "metadata": {},
     "output_type": "execute_result"
    },
    {
     "data": {
      "image/png": "[encoded data removed]",
      "text/plain": [
       "<Figure size 640x480 with 1 Axes>"
      ]
     },
     "metadata": {},
     "output_type": "display_data"
    }
   ],
   "source": [
    "#Grouping\n",
    "\n",
    "#padding\n",
    "img = cvtBinary(\"data/bin0.bmp\")\n",
    "row, col = len(img), len(img[0])\n",
    "\n",
    "for i in range(row):\n",
    "    padding = [0]\n",
    "    img[i] = [0] + img[i] + [0] \n",
    "\n",
    "\n",
    "padding = [0 for _ in range(SIZE+2)]\n",
    "img.insert(0, padding)\n",
    "img.append(padding)\n",
    "\n",
    "#First pass\n",
    "equivalence_table = []\n",
    "temp = list(img)\n",
    "\n",
    "kernel = [(0,0),(0,0)]\n",
    "row, col = len(img), len(img[0])\n",
    "\n",
    "region = 1\n",
    "for i in range(row-1):\n",
    "    for j in range(col-1):\n",
    "        kernel = ((img[i][j], img[i][j+1])\n",
    "                  ,(img[i+1][j], img[i+1][j+1]))\n",
    "        \n",
    "        if kernel[1][1] == 1 :\n",
    "            reg = 1\n",
    "            if kernel[0] == (0,0) and kernel[1] == (0,1):\n",
    "                reg = region+1\n",
    "                region+=1\n",
    "\n",
    "            elif kernel[0][0] != 0 :\n",
    "                reg = kernel[0][0]\n",
    "            \n",
    "            elif kernel[0] == (0,0):\n",
    "                reg = kernel[1][0]\n",
    "            \n",
    "            elif kernel[0][0] == 0 and kernel[1][0] == 0:\n",
    "                reg = kernel[0][1]\n",
    "            \n",
    "            elif kernel[0][0] == 0 and kernel[0][1] == kernel[1][0]:\n",
    "                reg = kernel[1][0]\n",
    "            \n",
    "            elif kernel[0][0] == 0 and kernel[0][1] != kernel[1][0]:\n",
    "                if {kernel[0][1], kernel[1][0]} not in equivalence_table:\n",
    "                    equivalence_table.append({kernel[0][1], kernel[1][0]})\n",
    "\n",
    "                reg = kernel[1][0]\n",
    "            \n",
    "            temp[i+1][j+1] = reg\n",
    "\n",
    "plt.imshow(temp, cmap=\"gray\")\n",
    "region, equivalence_table\n"
   ]
  },
  {
   "cell_type": "code",
   "execution_count": 27,
   "metadata": {},
   "outputs": [
    {
     "data": {
      "text/plain": [
       "({3: 3, 4: 3, 8: 5, 5: 5, 6: 5, 2: 2, 7: 7, 0: 0, 1: 1}, [3, 5, 2, 7])"
      ]
     },
     "execution_count": 27,
     "metadata": {},
     "output_type": "execute_result"
    }
   ],
   "source": [
    "#Dealing with the equivalence relations\n",
    "\n",
    "#Absorb any overlapping sets\n",
    "n = len(equivalence_table)\n",
    "while True: #Assume there is overlap\n",
    "    overlap = False    \n",
    "\n",
    "    i= 0\n",
    "    while i < n:\n",
    "        j = 0\n",
    "        while j < n:\n",
    "            if len(equivalence_table[i].intersection(equivalence_table[j]))>0 and i!=j:\n",
    "                overlap = True\n",
    "                equivalence_table[i] = equivalence_table[i].union(equivalence_table[j])\n",
    "                equivalence_table.pop(j)\n",
    "                n-=1\n",
    "            j+=1\n",
    "        i+=1\n",
    "\n",
    "    if not overlap:\n",
    "        break\n",
    "\n",
    "\n",
    "code_table={}\n",
    "region_table=[]\n",
    "for i in range(len(equivalence_table)):\n",
    "    key = min(equivalence_table[i])\n",
    "    region_table.append(key)\n",
    "    for j in equivalence_table[i]:\n",
    "        code_table[j] = key\n",
    "\n",
    "#For convenience later\n",
    "keys = code_table.keys()\n",
    "\n",
    "for i in range(2, region):\n",
    "    if i not in keys:\n",
    "        region_table.append(i)\n",
    "        code_table[i] = i\n",
    "code_table[0] = 0 #Default values\n",
    "code_table[1] = 1 #Default values\n",
    "\n",
    "code_table, region_table"
   ]
  },
  {
   "cell_type": "code",
   "execution_count": 28,
   "metadata": {},
   "outputs": [
    {
     "data": {
      "text/plain": [
       "<matplotlib.image.AxesImage at 0x13677b0b0>"
      ]
     },
     "execution_count": 28,
     "metadata": {},
     "output_type": "execute_result"
    },
    {
     "data": {
      "image/png": "[encoded data removed]",
      "text/plain": [
       "<Figure size 640x480 with 1 Axes>"
      ]
     },
     "metadata": {},
     "output_type": "display_data"
    }
   ],
   "source": [
    "#Apply equivalence relations\n",
    "row, col = len(temp), len(temp[0])\n",
    "for i in range(row):\n",
    "    for j in range(col):\n",
    "        temp[i][j] = code_table[temp[i][j]]\n",
    "\n",
    "plt.imshow(temp, cmap=\"gray\")"
   ]
  },
  {
   "cell_type": "code",
   "execution_count": 30,
   "metadata": {},
   "outputs": [
    {
     "data": {
      "text/plain": [
       "{0: 2, 1: 3, 2: 5, 3: 7}"
      ]
     },
     "execution_count": 30,
     "metadata": {},
     "output_type": "execute_result"
    }
   ],
   "source": [
    "#Regions translation\n",
    "region_table = sorted(region_table)\n",
    "regions = {}\n",
    "for i in range(len(region_table)):\n",
    "    regions[i] = region_table[i]\n",
    "\n",
    "regions"
   ]
  },
  {
   "cell_type": "code",
   "execution_count": 31,
   "metadata": {},
   "outputs": [
    {
     "data": {
      "text/plain": [
       "<matplotlib.image.AxesImage at 0x1345337a0>"
      ]
     },
     "execution_count": 31,
     "metadata": {},
     "output_type": "execute_result"
    },
    {
     "data": {
      "image/png": "[encoded data removed]",
      "text/plain": [
       "<Figure size 640x480 with 1 Axes>"
      ]
     },
     "metadata": {},
     "output_type": "display_data"
    }
   ],
   "source": [
    "#\"Masking\"\n",
    "r = 4 #Counting from zero\n",
    "temp2 = copy.deepcopy(temp)\n",
    "row, col = len(temp2), len(temp2[0])\n",
    "\n",
    "r%=len(regions)\n",
    "for i in range(row):\n",
    "    for j in range(col):\n",
    "        if(temp2[i][j]==regions[r]):\n",
    "            temp2[i][j] = 1\n",
    "        else:\n",
    "            temp2[i][j] = 0\n",
    "\n",
    "plt.imshow(temp2, cmap=\"gray\")"
   ]
  }
 ],
 "metadata": {
  "kernelspec": {
   "display_name": "Python 3",
   "language": "python",
   "name": "python3"
  },
  "language_info": {
   "codemirror_mode": {
    "name": "ipython",
    "version": 3
   },
   "file_extension": ".py",
   "mimetype": "text/x-python",
   "name": "python",
   "nbconvert_exporter": "python",
   "pygments_lexer": "ipython3",
   "version": "3.12.3"
  }
 },
 "nbformat": 4,
 "nbformat_minor": 2
}
