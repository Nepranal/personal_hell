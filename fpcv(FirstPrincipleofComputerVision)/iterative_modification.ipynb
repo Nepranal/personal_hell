{
 "cells": [
  {
   "cell_type": "markdown",
   "metadata": {},
   "source": [
    "# Under Progress\n",
    "---"
   ]
  },
  {
   "cell_type": "code",
   "execution_count": 243,
   "metadata": {},
   "outputs": [],
   "source": [
    "from matplotlib import pyplot as plt\n",
    "from PIL import Image\n",
    "import cv2 as cv\n",
    "import numpy as np\n",
    "import imutils\n",
    "import copy\n",
    "import time"
   ]
  },
  {
   "cell_type": "code",
   "execution_count": 244,
   "metadata": {},
   "outputs": [],
   "source": [
    "#Utils\n",
    "def cvtBinaryAndResize(path, size):\n",
    "    image = cv.imread(path, cv.IMREAD_GRAYSCALE)\n",
    "    resized = imutils.resize(image, width=size)\n",
    "    resized = resized.tolist()\n",
    "\n",
    "    row, col = len(resized), len(resized[0])\n",
    "    for i in range(row):\n",
    "        for j in range(col):\n",
    "            if(resized[i][j]!=255):\n",
    "                resized[i][j] = 0\n",
    "            else:\n",
    "                resized[i][j] = 1\n",
    "    \n",
    "    return resized\n",
    "\n",
    "def invertImage(data):\n",
    "    row, col = len(data), len(data[0])\n",
    "    for i in range(row):\n",
    "        for j in range(col):\n",
    "            data[i][j] = int(not data[i][j])\n",
    "    return data\n",
    "\n",
    "def invertArray(arr):\n",
    "    temp = copy.deepcopy(arr)\n",
    "    for i in range(len(temp)):\n",
    "        temp[i] = int(not temp[i])\n",
    "    return temp"
   ]
  },
  {
   "cell_type": "code",
   "execution_count": 245,
   "metadata": {},
   "outputs": [
    {
     "data": {
      "text/plain": [
       "<matplotlib.image.AxesImage at 0x17a5b14c0>"
      ]
     },
     "execution_count": 245,
     "metadata": {},
     "output_type": "execute_result"
    },
    {
     "data": {
      "image/png": "[encoded data removed]",
      "text/plain": [
       "<Figure size 640x480 with 1 Axes>"
      ]
     },
     "metadata": {},
     "output_type": "display_data"
    }
   ],
   "source": [
    "#Data prep\n",
    "data = [[1, 1, 1, 1, 1, 1, 1, 1, 1, 1, 1, 1, 1, 1, 1, 1, 1, 1, 1, 1],\n",
    "\t\t[1, 1, 1, 1, 1, 1, 1, 1, 1, 1, 1, 1, 1, 1, 1, 1, 1, 1, 1, 1],\n",
    "\t\t[1, 1, 1, 1, 1, 1, 1, 1, 1, 1, 1, 1, 1, 1, 1, 1, 1, 1, 1, 1],\n",
    "\t\t[1, 1, 1, 1, 1, 1, 1, 1, 1, 1, 1, 1, 1, 1, 1, 1, 1, 1, 1, 1],\n",
    "\t\t[1, 1, 1, 1, 1, 1, 0, 0, 0, 0, 0, 1, 1, 1, 1, 1, 1, 1, 1, 1],\n",
    "\t\t[1, 1, 1, 1, 1, 0, 0, 0, 0, 0, 0, 0, 1, 1, 1, 1, 1, 1, 1, 1],\n",
    "\t\t[1, 1, 1, 1, 0, 0, 0, 0, 0, 0, 0, 0, 0, 1, 1, 1, 1, 1, 1, 1],\n",
    "\t\t[1, 1, 1, 0, 0, 0, 0, 0, 0, 0, 0, 0, 0, 0, 1, 1, 1, 1, 1, 1],\n",
    "\t\t[1, 1, 1, 0, 0, 0, 0, 0, 0, 0, 0, 0, 0, 0, 1, 1, 1, 1, 1, 1],\n",
    "\t\t[1, 1, 1, 0, 0, 0, 0, 0, 1, 0, 0, 0, 0, 0, 1, 1, 1, 1, 1, 1],\n",
    "\t\t[1, 1, 1, 0, 0, 0, 0, 0, 0, 0, 0, 0, 0, 0, 1, 1, 1, 1, 1, 1],\n",
    "\t\t[1, 1, 1, 0, 0, 0, 0, 0, 0, 0, 0, 0, 0, 0, 1, 1, 1, 1, 1, 1],\n",
    "\t\t[1, 1, 1, 1, 0, 0, 0, 0, 0, 0, 0, 0, 0, 1, 1, 1, 1, 1, 1, 1],\n",
    "\t\t[1, 1, 1, 1, 1, 0, 0, 0, 0, 0, 0, 0, 1, 1, 1, 1, 1, 1, 1, 1],\n",
    "\t\t[1, 1, 1, 1, 1, 1, 0, 0, 0, 0, 0, 1, 1, 1, 1, 1, 1, 1, 1, 1],\n",
    "\t\t[1, 1, 1, 1, 1, 1, 1, 1, 1, 1, 1, 1, 1, 1, 1, 1, 1, 1, 1, 1],\n",
    "\t\t[1, 1, 1, 1, 1, 1, 1, 1, 1, 1, 1, 1, 1, 1, 1, 1, 1, 1, 1, 1],\n",
    "\t\t[1, 1, 1, 1, 1, 1, 1, 1, 1, 1, 1, 1, 1, 1, 1, 1, 1, 1, 1, 1],\n",
    "\t\t[1, 1, 1, 1, 1, 1, 1, 1, 1, 1, 1, 1, 1, 1, 1, 1, 1, 1, 1, 1],\n",
    "\t\t[1, 1, 1, 1, 1, 1, 1, 1, 1, 1, 1, 1, 1, 1, 1, 1, 1, 1, 1, 1]] # Approximately a donut\n",
    "\n",
    "# data = [[0, 0, 0, 0, 0],\n",
    "# \t\t[0, 0, 1, 0, 0],\n",
    "# \t\t[0, 1, 1, 1, 0],\n",
    "# \t\t[0, 0, 1, 0, 0],\n",
    "# \t\t[0, 0, 0, 0, 0]]\n",
    "\n",
    "# data = [[1, 1, 1, 1, 1, 1, 1, 1, 1, 1, 1, 1, 1, 1, 1, 1, 1, 1, 1, 1],\n",
    "# \t\t[1, 1, 1, 1, 1, 1, 1, 1, 1, 1, 1, 1, 1, 1, 1, 1, 1, 1, 1, 1],\n",
    "# \t\t[1, 1, 1, 1, 1, 1, 1, 0, 0, 0, 1, 1, 1, 1, 1, 1, 1, 1, 1, 1],\n",
    "# \t\t[1, 1, 1, 1, 1, 1, 1, 0, 0, 0, 1, 1, 1, 1, 1, 1, 1, 1, 1, 1],\n",
    "# \t\t[1, 1, 1, 1, 1, 1, 1, 0, 0, 0, 1, 1, 1, 1, 1, 1, 1, 1, 1, 1],\n",
    "# \t\t[1, 1, 1, 1, 1, 1, 1, 1, 0, 1, 1, 1, 1, 1, 1, 1, 1, 1, 1, 1],\n",
    "# \t\t[1, 1, 1, 1, 1, 1, 1, 1, 0, 1, 1, 1, 1, 1, 1, 1, 1, 1, 1, 1],\n",
    "# \t\t[1, 1, 1, 1, 0, 0, 0, 0, 0, 0, 0, 0, 0, 1, 1, 1, 1, 1, 1, 1],\n",
    "# \t\t[1, 1, 1, 0, 0, 0, 1, 0, 0, 0, 1, 0, 0, 0, 1, 1, 1, 1, 1, 1],\n",
    "# \t\t[1, 1, 0, 0, 0, 1, 1, 0, 0, 0, 1, 1, 0, 0, 0, 1, 1, 1, 1, 1],\n",
    "# \t\t[1, 1, 0, 0, 0, 1, 1, 0, 0, 0, 1, 1, 0, 0, 0, 1, 1, 1, 1, 1],\n",
    "# \t\t[1, 1, 0, 0, 1, 1, 1, 0, 0, 0, 1, 1, 1, 0, 0, 1, 1, 1, 1, 1],\n",
    "# \t\t[1, 1, 1, 1, 1, 1, 1, 0, 1, 0, 1, 1, 1, 1, 1, 1, 1, 1, 1, 1],\n",
    "# \t\t[1, 1, 1, 1, 1, 1, 1, 0, 1, 0, 1, 1, 1, 1, 1, 1, 1, 1, 1, 1],\n",
    "# \t\t[1, 1, 1, 1, 1, 1, 0, 0, 1, 0, 0, 1, 1, 1, 1, 1, 1, 1, 1, 1],\n",
    "# \t\t[1, 1, 1, 1, 1, 0, 0, 0, 1, 0, 0, 0, 1, 1, 1, 1, 1, 1, 1, 1],\n",
    "# \t\t[1, 1, 1, 1, 0, 0, 0, 0, 1, 0, 0, 0, 0, 1, 1, 1, 1, 1, 1, 1],\n",
    "# \t\t[1, 1, 1, 1, 1, 1, 1, 1, 1, 1, 1, 1, 1, 1, 1, 1, 1, 1, 1, 1],\n",
    "# \t\t[1, 1, 1, 1, 1, 1, 1, 1, 1, 1, 1, 1, 1, 1, 1, 1, 1, 1, 1, 1],\n",
    "# \t\t[1, 1, 1, 1, 1, 1, 1, 1, 1, 1, 1, 1, 1, 1, 1, 1, 1, 1, 1, 1]]\n",
    "\n",
    "data = invertImage(data)\n",
    "\n",
    "\n",
    "image = Image.new('1', (len(data),len(data[0])))\n",
    "pixels = image.load()\n",
    "\n",
    "for i in range(image.size[0]):\n",
    "    for j in range(image.size[1]):\n",
    "       pixels[j, i] = data[i][j]\n",
    "\n",
    "image.save(\"data/bin0.bmp\")\n",
    "plt.imshow(data, cmap=\"gray\")\n",
    "\n",
    "#Resizing\n",
    "# image = cv.imread('data/bin0.bmp', cv.IMREAD_GRAYSCALE)\n",
    "# resized = imutils.resize(image, width=256)\n",
    "# resized = resized.tolist()\n",
    "\n",
    "# row, col = len(resized), len(resized[0])\n",
    "# for i in range(row):\n",
    "#     for j in range(col):\n",
    "#         if(resized[i][j]!=255):\n",
    "#             resized[i][j] = 0\n",
    "#         else:\n",
    "#             resized[i][j] = 1\n",
    "\n",
    "#Padding\n",
    "resized = cv.imread('data/bin0.bmp', cv.IMREAD_GRAYSCALE).tolist()\n",
    "row, col = len(resized), len(resized[0])\n",
    "\n",
    "for i in range(row):\n",
    "    padding = [0]\n",
    "    resized[i] = [0] + resized[i] + [0] \n",
    "\n",
    "\n",
    "padding = [0 for _ in range(col+2)]\n",
    "resized.insert(0, padding)\n",
    "resized.append(padding)\n",
    "\n",
    "image = Image.new('1', (row,col))\n",
    "pixels = image.load()\n",
    "\n",
    "for i in range(image.size[0]):\n",
    "    for j in range(image.size[1]):\n",
    "       pixels[j, i] = resized[i][j]\n",
    "\n",
    "image.save(\"data/bin0.bmp\")\n",
    "plt.imshow(resized, cmap=\"gray\")"
   ]
  },
  {
   "cell_type": "code",
   "execution_count": 252,
   "metadata": {},
   "outputs": [
    {
     "data": {
      "text/plain": [
       "-2"
      ]
     },
     "execution_count": 252,
     "metadata": {},
     "output_type": "execute_result"
    }
   ],
   "source": [
    "# #calculating euler differential\n",
    "def bodies(neighbourhood, centre):\n",
    "    if centre==1: return 1\n",
    "    bodies = 0\n",
    "\n",
    "    index = np.argmax(neighbourhood)\n",
    "    if neighbourhood[index] == 0: \n",
    "        return bodies\n",
    "\n",
    "    index2 = (index+3)%6\n",
    "    #Case 1: There's something across\n",
    "    if neighbourhood[index2] == 1:\n",
    "        if (neighbourhood[(index+1)%6] == 1 and neighbourhood[(index+2)%6] == 1 \n",
    "            or neighbourhood[(index2+1)%6] == 1 and neighbourhood[(index2+2)%6] == 1) :\n",
    "            bodies = 1\n",
    "        else:\n",
    "            bodies = 2\n",
    "    else:\n",
    "        #Case 2: There's nothing accross\n",
    "        if(neighbourhood[(index)%6] == 1 and neighbourhood[(index+2)%6] == 1 and neighbourhood[(index+4)%6] == 1):\n",
    "            bodies = 3\n",
    "        elif(neighbourhood[(index+1)%6] == 0 and neighbourhood[(index+2)%6] == 1 \n",
    "            or neighbourhood[(index2+1)%6] == 1 and neighbourhood[(index2+2)%6] == 0):\n",
    "            bodies = 2\n",
    "        else:\n",
    "            bodies = 1\n",
    "\n",
    "    return bodies\n",
    "\n",
    "def holes(neighbourhood, centre):\n",
    "    if(centre == 1):\n",
    "        return 0\n",
    "    \n",
    "    if sum(neighbourhood) == 6:\n",
    "        return 1\n",
    "    \n",
    "    return 0\n",
    "\n",
    "def E(neighbourhood, centre):\n",
    "    # print(bodies(neighbourhood, centre) , holes(neighbourhood, centre))\n",
    "    return bodies(neighbourhood, centre) - holes(neighbourhood, centre)\n",
    "\n",
    "def E_star(neighbourhood):\n",
    "    E1 = E(neighbourhood, centre = 0)\n",
    "    E2 = E(neighbourhood, centre = 1)\n",
    "\n",
    "    # print(E2, E1)\n",
    "\n",
    "    return E2-E1\n",
    "\n",
    "neighbourhood = [0, 1, 0, 1, 0, 1]\n",
    "E_star(neighbourhood)"
   ]
  },
  {
   "cell_type": "code",
   "execution_count": 247,
   "metadata": {},
   "outputs": [],
   "source": [
    "# def E_star(neighbourhood):\n",
    "#     s = sum(neighbourhood)\n",
    "#     if(s==0 or s==6):\n",
    "#         return 1\n",
    "    \n",
    "#     flag1, flag0 = True, True\n",
    "\n",
    "#     index = np.argmax(neighbourhood)\n",
    "#     count=1\n",
    "#     i = (index + 1)%6\n",
    "#     while i != index:\n",
    "#         if(neighbourhood[i]==1):\n",
    "#             count+=1\n",
    "#         else:\n",
    "#             break\n",
    "\n",
    "#         i = (i + 1)%6\n",
    "    \n",
    "#     if(count!=s):\n",
    "#         flag1 = False\n",
    "    \n",
    "#     index = np.argmin(neighbourhood)\n",
    "#     count=1\n",
    "#     i = (index + 1)%6\n",
    "#     while i != index:\n",
    "#         if(neighbourhood[i]==0):\n",
    "#             count+=1\n",
    "#         else:\n",
    "#             break\n",
    "\n",
    "#         i = (i + 1)%6\n",
    "    \n",
    "#     if(count!= 6 - s):\n",
    "#         flag0 = False\n",
    "\n",
    "#     return not (flag1 or flag0)\n",
    "\n",
    "# E_star((1,1,1,1,1,1)) == 0"
   ]
  },
  {
   "cell_type": "code",
   "execution_count": 248,
   "metadata": {},
   "outputs": [],
   "source": [
    "# resized = plt.imread(\"data/tree.bmp\")\n",
    "# resized = cv.cvtColor(resized, cv.COLOR_RGB2GRAY).tolist()\n",
    "\n",
    "# row, col = len(resized), len(resized[0])\n",
    "# print(row, col)\n",
    "\n",
    "# for i in range(row):\n",
    "#     resized[i] = [0] + resized[i] + [0] \n",
    "\n",
    "\n",
    "# padding = [0 for _ in range(col+2)]\n",
    "# resized.insert(0, padding)\n",
    "# resized.append(padding)\n",
    "\n",
    "# row, col = len(resized), len(resized[0])\n",
    "# print(row, col)\n",
    "\n",
    "# for i in range(len(resized)):\n",
    "#     for j in range(len(resized[0])):\n",
    "#         resized[i][j] = int(resized[i][j]==255)\n",
    "\n",
    "# plt.imshow(resized, cmap=\"gray\")"
   ]
  },
  {
   "cell_type": "code",
   "execution_count": 249,
   "metadata": {},
   "outputs": [
    {
     "data": {
      "image/png": "[encoded data removed]",
      "text/plain": [
       "<Figure size 640x480 with 1 Axes>"
      ]
     },
     "metadata": {},
     "output_type": "display_data"
    }
   ],
   "source": [
    "#Algorithm 4 with N0\n",
    "# aij = if (i,j)'s neighbourhood is in N0 i.e. E_star(neighbourhood) == 0\n",
    "# bij = current value of (i, j)\n",
    "# cij = new value of (i, j)\n",
    "\n",
    "'''\n",
    "Algorithm 4\n",
    "aij bij cij\n",
    "0   0   0   \n",
    "0   1   1\n",
    "1   0   0\n",
    "1   1   0\n",
    "'''\n",
    "size = 20\n",
    "\n",
    "modified = [(-1,-1)]\n",
    "count=0\n",
    "while(len(modified)!=0):\n",
    "    modified = []\n",
    "    for i in range(1, 20+1):\n",
    "        for j in range(1, 20+1):\n",
    "            neighbourhood = (resized[i][j-1], resized[i-1][j-1], resized[i-1][j], resized[i][j+1], resized[i+1][j+1], resized[i+1][j])\n",
    "            # if ((i, j-1) in modified\n",
    "            #     or (i-1, j-1) in modified\n",
    "            #     or (i-1, j) in modified\n",
    "            #     or (i, j+1) in modified\n",
    "            #     or (i+1, j+1) in modified\n",
    "            #     or (i+1, j) in modified): continue\n",
    "\n",
    "\n",
    "            aij = int(E_star(neighbourhood) == 0)\n",
    "            bij = resized[i][j]\n",
    "\n",
    "            match (aij, bij):\n",
    "                case (0,0):\n",
    "                    cij = 0\n",
    "                case (0,1):\n",
    "                    cij = 1\n",
    "                case (1,0):\n",
    "                    cij = 0\n",
    "                case (1,1):\n",
    "                    cij = 0\n",
    "            \n",
    "            # print((i,j),neighbourhood,aij,bij, cij)\n",
    "\n",
    "            if(cij!=bij):\n",
    "            #     # print((i,j)\n",
    "            #     #     ,(i, j-1)\n",
    "            #     #     ,(i-1, j-1)\n",
    "            #     #     ,(i-1, j)\n",
    "            #     #     ,(i, j+1) \n",
    "            #     #     ,(i+1, j+1)\n",
    "            #     #     ,(i+1, j)\n",
    "            #     #     , (i,j) in modified )\n",
    "                modified.append((i,j))\n",
    "            #     modified.append((i,j-1))\n",
    "            #     modified.append((i-1,j-1))\n",
    "            #     modified.append((i,j+1))\n",
    "            #     modified.append((i+1,j+1))\n",
    "            #     modified.append((i+1,j))\n",
    "            \n",
    "            resized[i][j] = cij\n",
    "    count+=1\n",
    "plt.imshow(resized, cmap=\"gray\")\n",
    "plt.show()"
   ]
  },
  {
   "cell_type": "code",
   "execution_count": 250,
   "metadata": {},
   "outputs": [
    {
     "data": {
      "text/plain": [
       "<matplotlib.image.AxesImage at 0x17fc7e9c0>"
      ]
     },
     "execution_count": 250,
     "metadata": {},
     "output_type": "execute_result"
    },
    {
     "data": {
      "image/png": "[encoded data removed]",
      "text/plain": [
       "<Figure size 640x480 with 1 Axes>"
      ]
     },
     "metadata": {},
     "output_type": "display_data"
    }
   ],
   "source": [
    "image = Image.new('1', (len(resized[0]),len(resized)))\n",
    "pixels = image.load()\n",
    "\n",
    "for i in range(len(resized)):\n",
    "    for j in range(len(resized[0])):\n",
    "       pixels[j, i] = resized[i][j]\n",
    "\n",
    "image.save(\"data/out0.bmp\")\n",
    "plt.imshow(resized, cmap=\"gray\")"
   ]
  },
  {
   "cell_type": "code",
   "execution_count": 251,
   "metadata": {},
   "outputs": [
    {
     "data": {
      "image/png": "[encoded data removed]",
      "text/plain": [
       "<Figure size 800x400 with 2 Axes>"
      ]
     },
     "metadata": {},
     "output_type": "display_data"
    }
   ],
   "source": [
    "from skimage.morphology import skeletonize, thin\n",
    "from skimage import data\n",
    "import matplotlib.pyplot as plt\n",
    "from skimage.util import invert\n",
    "\n",
    "# Invert the horse image\n",
    "# image = invert(data.horse())\n",
    "image = np.array(resized)\n",
    "\n",
    "# perform skeletonization\n",
    "skeleton = skeletonize(image)\n",
    "thinned = thin(skeleton)\n",
    "\n",
    "# display results\n",
    "fig, axes = plt.subplots(nrows=1, ncols=2, figsize=(8, 4), sharex=True, sharey=True)\n",
    "\n",
    "ax = axes.ravel()\n",
    "\n",
    "ax[0].imshow(image, cmap=plt.cm.gray)\n",
    "ax[0].axis('off')\n",
    "ax[0].set_title('original', fontsize=20)\n",
    "\n",
    "ax[1].imshow(thinned, cmap=plt.cm.gray)\n",
    "ax[1].axis('off')\n",
    "ax[1].set_title('thinned', fontsize=20)\n",
    "\n",
    "fig.tight_layout()\n",
    "plt.show()"
   ]
  }
 ],
 "metadata": {
  "kernelspec": {
   "display_name": "Python 3",
   "language": "python",
   "name": "python3"
  },
  "language_info": {
   "codemirror_mode": {
    "name": "ipython",
    "version": 3
   },
   "file_extension": ".py",
   "mimetype": "text/x-python",
   "name": "python",
   "nbconvert_exporter": "python",
   "pygments_lexer": "ipython3",
   "version": "3.12.3"
  }
 },
 "nbformat": 4,
 "nbformat_minor": 2
}
